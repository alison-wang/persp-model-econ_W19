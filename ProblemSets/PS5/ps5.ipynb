{
 "cells": [
  {
   "cell_type": "code",
   "execution_count": 2,
   "metadata": {},
   "outputs": [],
   "source": [
    "import numpy as np\n",
    "import numpy.linalg as lin\n",
    "import scipy.stats as sts\n",
    "import scipy.integrate as intgr\n",
    "import scipy.optimize as opt\n",
    "import matplotlib\n",
    "import matplotlib.pyplot as plt\n",
    "import pandas as pd\n",
    "import warnings\n",
    "warnings.filterwarnings(\"ignore\")"
   ]
  },
  {
   "cell_type": "code",
   "execution_count": 3,
   "metadata": {},
   "outputs": [],
   "source": [
    "# q1"
   ]
  },
  {
   "cell_type": "code",
   "execution_count": 4,
   "metadata": {},
   "outputs": [],
   "source": [
    "# a"
   ]
  },
  {
   "cell_type": "code",
   "execution_count": 5,
   "metadata": {},
   "outputs": [
    {
     "data": {
      "text/html": [
       "<div>\n",
       "<style scoped>\n",
       "    .dataframe tbody tr th:only-of-type {\n",
       "        vertical-align: middle;\n",
       "    }\n",
       "\n",
       "    .dataframe tbody tr th {\n",
       "        vertical-align: top;\n",
       "    }\n",
       "\n",
       "    .dataframe thead th {\n",
       "        text-align: right;\n",
       "    }\n",
       "</style>\n",
       "<table border=\"1\" class=\"dataframe\">\n",
       "  <thead>\n",
       "    <tr style=\"text-align: right;\">\n",
       "      <th></th>\n",
       "      <th>Income</th>\n",
       "    </tr>\n",
       "  </thead>\n",
       "  <tbody>\n",
       "    <tr>\n",
       "      <th>count</th>\n",
       "      <td>200.000000</td>\n",
       "    </tr>\n",
       "    <tr>\n",
       "      <th>mean</th>\n",
       "      <td>85276.823606</td>\n",
       "    </tr>\n",
       "    <tr>\n",
       "      <th>std</th>\n",
       "      <td>18037.692869</td>\n",
       "    </tr>\n",
       "    <tr>\n",
       "      <th>min</th>\n",
       "      <td>47628.560636</td>\n",
       "    </tr>\n",
       "    <tr>\n",
       "      <th>25%</th>\n",
       "      <td>71850.308175</td>\n",
       "    </tr>\n",
       "    <tr>\n",
       "      <th>50%</th>\n",
       "      <td>83864.444560</td>\n",
       "    </tr>\n",
       "    <tr>\n",
       "      <th>75%</th>\n",
       "      <td>96059.995074</td>\n",
       "    </tr>\n",
       "    <tr>\n",
       "      <th>max</th>\n",
       "      <td>139079.351549</td>\n",
       "    </tr>\n",
       "  </tbody>\n",
       "</table>\n",
       "</div>"
      ],
      "text/plain": [
       "              Income\n",
       "count     200.000000\n",
       "mean    85276.823606\n",
       "std     18037.692869\n",
       "min     47628.560636\n",
       "25%     71850.308175\n",
       "50%     83864.444560\n",
       "75%     96059.995074\n",
       "max    139079.351549"
      ]
     },
     "execution_count": 5,
     "metadata": {},
     "output_type": "execute_result"
    }
   ],
   "source": [
    "df=pd.read_csv(\"data/incomes.txt\",names=['Income'])\n",
    "df.describe()"
   ]
  },
  {
   "cell_type": "code",
   "execution_count": 6,
   "metadata": {},
   "outputs": [
    {
     "data": {
      "image/png": "[encoded data removed]",
      "text/plain": [
       "<Figure size 432x288 with 1 Axes>"
      ]
     },
     "metadata": {
      "needs_background": "light"
     },
     "output_type": "display_data"
    }
   ],
   "source": [
    "num_bins = 30\n",
    "plt.hist(df['Income'], num_bins, normed = True, edgecolor = 'k')\n",
    "plt.xlabel('Annual Income', fontsize = 15)\n",
    "plt.ylabel('Percentages of the Income', fontsize = 15)\n",
    "plt.title('Annual Incomes of MACCS Students from 2018 to 2020', fontsize = 20)\n",
    "plt.xlim([0, 150000])\n",
    "plt.show()"
   ]
  },
  {
   "cell_type": "code",
   "execution_count": 7,
   "metadata": {},
   "outputs": [],
   "source": [
    "# b"
   ]
  },
  {
   "cell_type": "code",
   "execution_count": 8,
   "metadata": {},
   "outputs": [
    {
     "name": "stdout",
     "output_type": "stream",
     "text": [
      "mu_GMM1= 11.333533482547043  sig_GMM1= 0.21386191435240656\n",
      "Mean of points = 85276.82360625808 , Standard Deviation of points = 18037.692869371564\n",
      "Mean of model = 85276.82405894298 , Standard Deviation = 18037.692424757304\n",
      "Error vector= [ 5.30841645e-09 -2.46491756e-08]\n",
      "GMM criterion function = [[6.35761144e-16]]\n"
     ]
    }
   ],
   "source": [
    "def trunc_lognorm_pdf(xvals, mu, sigma, cut_lb, cut_ub):\n",
    "\n",
    "    if cut_ub == 'None' and cut_lb == 'None':\n",
    "        prob_notcut = 1.0\n",
    "    elif cut_ub == 'None' and cut_lb != 'None':\n",
    "        prob_notcut = 1.0 - sts.lognorm.cdf(cut_lb, sigma, scale=np.exp(mu))\n",
    "    elif cut_ub != 'None' and cut_lb == 'None':\n",
    "        prob_notcut = sts.lognorm.cdf(cut_ub, sigma,scale=np.exp(mu))\n",
    "    elif cut_ub != 'None' and cut_lb != 'None':\n",
    "        prob_notcut = (sts.lognorm.cdf(cut_ub, sigma,scale=np.exp(mu)) -\n",
    "                       sts.lognorm.cdf(cut_lb, sigma,scale=np.exp(mu)))\n",
    "            \n",
    "    pdf_vals    = ((1/(xvals*sigma * np.sqrt(2 * np.pi)) *\n",
    "                    np.exp( - (np.log(xvals) - mu)**2 / (2 * sigma**2))) /\n",
    "                    prob_notcut)\n",
    "    \n",
    "    return pdf_vals\n",
    "\n",
    "def data_moments(xvals):\n",
    "\n",
    "    mean_data = xvals.mean()\n",
    "    std_data = xvals.std()\n",
    "    \n",
    "    return mean_data, std_data\n",
    "\n",
    "def model_moments(mu, sigma, cut_lb, cut_ub):\n",
    "   \n",
    "    xfx = lambda x: x * trunc_lognorm_pdf(x, mu, sigma, cut_lb, cut_ub)\n",
    "    (mean_model, m_m_err) = intgr.quad(xfx, cut_lb, cut_ub)\n",
    "    x2fx = lambda x: ((x - mean_model) ** 2) * trunc_lognorm_pdf(x, mu, sigma, cut_lb, cut_ub) \n",
    "    (var_model, v_m_err) = intgr.quad(x2fx, cut_lb, cut_ub)\n",
    "    \n",
    "    return mean_model, np.sqrt(var_model)\n",
    "\n",
    "def err_vec(xvals, mu, sigma, cut_lb, cut_ub, simple):\n",
    "\n",
    "    mean_data, std_data = data_moments(xvals)\n",
    "    moms_data = np.array([[mean_data], [std_data]])\n",
    "    mean_model, std_model = model_moments(mu, sigma, cut_lb, cut_ub)\n",
    "    moms_model = np.array([[mean_model], [std_model]])\n",
    "    if simple:\n",
    "        err_vec = moms_model - moms_data\n",
    "    else:\n",
    "        err_vec = (moms_model - moms_data) / moms_data\n",
    "    \n",
    "    return err_vec\n",
    "\n",
    "def criterion(params, *args):\n",
    "    mu, sigma = params\n",
    "    xvals, cut_lb, cut_ub, W = args\n",
    "    err = err_vec(xvals, mu, sigma, cut_lb, cut_ub, simple=False)\n",
    "    crit_val = err.T @ W @ err\n",
    "    \n",
    "    return crit_val\n",
    "\n",
    "mu_init = 11\n",
    "sig_init = 0.5\n",
    "params_init = np.array([mu_init, sig_init])\n",
    "W_hat = np.eye(2) #Identity matrix\n",
    "gmm_args = (df['Income'], 0.0, 150000.0, W_hat)\n",
    "results = opt.minimize(criterion, params_init, args=(gmm_args), tol=1e-14,\n",
    "                       method='L-BFGS-B', bounds=((None, None), (1e-10, None)))\n",
    "mu_GMM1, sig_GMM1 = results.x\n",
    "print('mu_GMM1=', mu_GMM1, ' sig_GMM1=', sig_GMM1)\n",
    "\n",
    "mean_data, std_data = data_moments(df['Income'])\n",
    "mean_model, std_model = model_moments(mu_GMM1, sig_GMM1, 0.0, 150000.0)\n",
    "err1 = err_vec(df['Income'], mu_GMM1, sig_GMM1, 0.0, 150000.0, False).reshape(2,)\n",
    "print('Mean of points =', mean_data, ', Standard Deviation of points =', std_data)\n",
    "print('Mean of model =', mean_model, ', Standard Deviation =', std_model)\n",
    "print('Error vector=', err1)\n",
    "print('GMM criterion function =',results.fun)\n",
    "\n"
   ]
  },
  {
   "cell_type": "code",
   "execution_count": 9,
   "metadata": {},
   "outputs": [
    {
     "data": {
      "image/png": "[encoded data removed]",
      "text/plain": [
       "<Figure size 432x288 with 1 Axes>"
      ]
     },
     "metadata": {
      "needs_background": "light"
     },
     "output_type": "display_data"
    }
   ],
   "source": [
    "num_bins = 30\n",
    "plt.hist(df['Income'], num_bins, normed = True, edgecolor = 'k')\n",
    "plt.xlabel('Annual Income', fontsize = 15)\n",
    "plt.ylabel('Percentages of the Income', fontsize = 15)\n",
    "plt.title('Annual Incomes of MACCS Students from 2018 to 2020', fontsize = 20)\n",
    "plt.xlim([0, 150000])\n",
    "\n",
    "dist_pts = np.linspace(0, 150000, 3000)\n",
    "plt.plot(dist_pts, trunc_lognorm_pdf(dist_pts, mu_GMM1, sig_GMM1, 0.0, 150000),\n",
    "         linewidth=2, color='r', label='1: $\\mu_{GMM1}$,$\\sigma_{GMM1}$')\n",
    "plt.legend(loc='upper left')\n",
    "plt.show()"
   ]
  },
  {
   "cell_type": "code",
   "execution_count": 10,
   "metadata": {},
   "outputs": [],
   "source": [
    "# c"
   ]
  },
  {
   "cell_type": "code",
   "execution_count": 11,
   "metadata": {},
   "outputs": [
    {
     "name": "stdout",
     "output_type": "stream",
     "text": [
      "VCV2 is [[4.45167060e-02 1.67963797e+03]\n",
      " [1.67963797e+03 9.49413425e+08]]\n",
      "W_hat2 is [[ 2.40701669e+01 -4.25833101e-05]\n",
      " [-4.25833101e-05  1.12861743e-09]]\n"
     ]
    }
   ],
   "source": [
    "def get_Err_mat2(pts, mu, sigma, cut_lb, cut_ub, simple=False):\n",
    "    R = 2\n",
    "    N = len(pts)\n",
    "    Err_mat = np.zeros((R, N))\n",
    "    mean_model, var_model = model_moments(mu, sigma, cut_lb, cut_ub)\n",
    "    if simple:\n",
    "        Err_mat[0, :] = pts - mean_model\n",
    "        Err_mat[1, :] = ((mean_data - pts) ** 2) - var_model\n",
    "    else:\n",
    "        Err_mat[0, :] = (pts - mean_model) / mean_model\n",
    "        Err_mat[1, :] = (((mean_data - pts) ** 2) - var_model) / var_model\n",
    "    \n",
    "    return Err_mat\n",
    "\n",
    "Err_mat =get_Err_mat2(df['Income'], mu_GMM1, sig_GMM1, 0.0, 150000.0, False)\n",
    "VCV2 = (1 / df['Income'].shape[0]) * (Err_mat @ Err_mat.T)\n",
    "print(\"VCV2 is\",VCV2)\n",
    "W_hat2 = lin.inv(VCV2)\n",
    "print(\"W_hat2 is\",W_hat2)"
   ]
  },
  {
   "cell_type": "code",
   "execution_count": 12,
   "metadata": {},
   "outputs": [
    {
     "name": "stdout",
     "output_type": "stream",
     "text": [
      "mu_GMM2= 11.333533472755567  sig_GMM2= 0.2138619137414848\n"
     ]
    }
   ],
   "source": [
    "gmm_args = (df['Income'], 0.0, 150000.0, W_hat2)\n",
    "params_init = np.array([mu_GMM1, sig_GMM1])\n",
    "results2 = opt.minimize(criterion, params_init, args=(gmm_args), tol=1e-14,\n",
    "                       method='L-BFGS-B', bounds=((None, None), (1e-10, None)))\n",
    "mu_GMM2, sig_GMM2 = results2.x\n",
    "print('mu_GMM2=', mu_GMM2, ' sig_GMM2=', sig_GMM2)"
   ]
  },
  {
   "cell_type": "code",
   "execution_count": 13,
   "metadata": {},
   "outputs": [
    {
     "name": "stdout",
     "output_type": "stream",
     "text": [
      "Mean of points = 85276.82360625808 , Standard Deviation of points = 18037.692869371564\n",
      "Mean of model = 85276.82324668276 , Standard Deviation of model = 18037.692248481748\n",
      "Error vector= [-4.21656562e-09 -3.44217977e-08]\n",
      "GMM criterion function = [[4.27941383e-16]]\n"
     ]
    }
   ],
   "source": [
    "mean_model2, std_model2 = model_moments(mu_GMM2, sig_GMM2, 0.0, 150000.0)\n",
    "err2 = err_vec(df['Income'], mu_GMM2, sig_GMM2, 0.0, 150000.0, False).reshape(2,)\n",
    "print('Mean of points =', mean_data, ', Standard Deviation of points =', std_data)\n",
    "print('Mean of model =', mean_model2, ', Standard Deviation of model =', std_model2)\n",
    "print('Error vector=', err2)\n",
    "print('GMM criterion function =',results2.fun)"
   ]
  },
  {
   "cell_type": "code",
   "execution_count": 14,
   "metadata": {},
   "outputs": [
    {
     "data": {
      "image/png": "[encoded data removed]",
      "text/plain": [
       "<Figure size 432x288 with 1 Axes>"
      ]
     },
     "metadata": {
      "needs_background": "light"
     },
     "output_type": "display_data"
    }
   ],
   "source": [
    "num_bins = 30\n",
    "plt.hist(df['Income'], num_bins, normed = True, edgecolor = 'k')\n",
    "plt.xlabel('Annual Income', fontsize = 15)\n",
    "plt.ylabel('Percentages of the Income', fontsize = 15)\n",
    "plt.title('Annual Incomes of MACCS Students from 2018 to 2020', fontsize = 20)\n",
    "plt.xlim([0, 150000])\n",
    "\n",
    "dist_pts = np.linspace(0, 150000, 3000)\n",
    "plt.plot(dist_pts, trunc_lognorm_pdf(dist_pts, mu_GMM1, sig_GMM1, 0.0, 150000),\n",
    "         linewidth=2, color='r', label='1: $\\mu_{GMM1}$,$\\sigma_{GMM1}$')\n",
    "\n",
    "plt.plot(dist_pts, trunc_lognorm_pdf(dist_pts, mu_GMM2, sig_GMM2, 0.0, 150000),\n",
    "         linewidth=2, color='b', label='1: $\\mu_{GMM2}$,$\\sigma_{GMM2}$')\n",
    "plt.legend(loc='upper left')\n",
    "\n",
    "plt.show()"
   ]
  },
  {
   "cell_type": "code",
   "execution_count": 15,
   "metadata": {},
   "outputs": [],
   "source": [
    "# d"
   ]
  },
  {
   "cell_type": "code",
   "execution_count": 16,
   "metadata": {},
   "outputs": [],
   "source": [
    "# This function computes the three data moments for GMM (binpct_1, binpct_2, binpct_3).\n",
    "def data_moments3(xvals):\n",
    "    bpct_1_dat = xvals[xvals <75000].shape[0] / xvals.shape[0]\n",
    "    bpct_2_dat = (xvals[(xvals >=75000) & (xvals < 100000)].shape[0] /\n",
    "                  xvals.shape[0])\n",
    "    bpct_3_dat = xvals[xvals >= 100000].shape[0] / xvals.shape[0]\n",
    "\n",
    "    return bpct_1_dat, bpct_2_dat, bpct_3_dat\n",
    "\n",
    "# This function computes the three model moments for GMM (binpct_1, binpct_2, binpct_3).\n",
    "def model_moments3(mu, sigma, cut_lb, cut_ub):\n",
    "    xfx = lambda x: trunc_lognorm_pdf(x, mu, sigma, cut_lb, cut_ub)\n",
    "    (bpct_1_mod, bp_1_err) = intgr.quad(xfx, 0.0, 75000)\n",
    "    (bpct_2_mod, bp_2_err) = intgr.quad(xfx, 75000, 100000)\n",
    "    (bpct_3_mod, bp_3_err) = intgr.quad(xfx, 100000, 150000)\n",
    "    \n",
    "    return bpct_1_mod, bpct_2_mod, bpct_3_mod\n",
    "\n",
    "# This function computes the vector of moment errors (in percent deviation from the data moment vector) for GMM.\n",
    "\n",
    "def err_vec3(xvals, mu, sigma, cut_lb, cut_ub, simple):\n",
    "    bpct_1_dat, bpct_2_dat, bpct_3_dat = data_moments3(xvals)\n",
    "    moms_data = np.array([[bpct_1_dat], [bpct_2_dat], [bpct_3_dat]])\n",
    "    bpct_1_mod, bpct_2_mod, bpct_3_mod = model_moments3(mu, sigma, cut_lb, cut_ub)\n",
    "    moms_model = np.array([[bpct_1_mod], [bpct_2_mod], [bpct_3_mod]])\n",
    "    if simple:\n",
    "        err_vec = moms_model - moms_data\n",
    "    else:\n",
    "        err_vec = (moms_model - moms_data) / moms_data\n",
    "    \n",
    "    return err_vec\n",
    "\n",
    "def criterion3(params, *args):\n",
    "    mu, sigma = params\n",
    "    xvals, cut_lb, cut_ub, W = args\n",
    "    err = err_vec3(xvals, mu, sigma, cut_lb, cut_ub, simple=False)\n",
    "    crit_val = err.T @ W @ err \n",
    "    \n",
    "    return crit_val\n"
   ]
  },
  {
   "cell_type": "code",
   "execution_count": 17,
   "metadata": {},
   "outputs": [
    {
     "name": "stdout",
     "output_type": "stream",
     "text": [
      "mu_GMM1_3= 11.336705162764714  sig_GMM1_3= 0.21151353494384018\n",
      "Error vector= [ 1.61522336e-07 -7.19526515e-08 -6.24018733e-08]\n",
      "GMM criterion function is [[3.51606427e-14]]\n"
     ]
    },
    {
     "data": {
      "text/html": [
       "<div>\n",
       "<style scoped>\n",
       "    .dataframe tbody tr th:only-of-type {\n",
       "        vertical-align: middle;\n",
       "    }\n",
       "\n",
       "    .dataframe tbody tr th {\n",
       "        vertical-align: top;\n",
       "    }\n",
       "\n",
       "    .dataframe thead th {\n",
       "        text-align: right;\n",
       "    }\n",
       "</style>\n",
       "<table border=\"1\" class=\"dataframe\">\n",
       "  <thead>\n",
       "    <tr style=\"text-align: right;\">\n",
       "      <th></th>\n",
       "      <th>Data Moments</th>\n",
       "      <th>Model Momets</th>\n",
       "    </tr>\n",
       "  </thead>\n",
       "  <tbody>\n",
       "    <tr>\n",
       "      <th>Percent &lt;75000</th>\n",
       "      <td>0.3</td>\n",
       "      <td>0.3</td>\n",
       "    </tr>\n",
       "    <tr>\n",
       "      <th>Percent 75000~100000</th>\n",
       "      <td>0.5</td>\n",
       "      <td>0.5</td>\n",
       "    </tr>\n",
       "    <tr>\n",
       "      <th>Percent &gt;=100000</th>\n",
       "      <td>0.2</td>\n",
       "      <td>0.2</td>\n",
       "    </tr>\n",
       "  </tbody>\n",
       "</table>\n",
       "</div>"
      ],
      "text/plain": [
       "                      Data Moments  Model Momets\n",
       "Percent <75000                 0.3           0.3\n",
       "Percent 75000~100000           0.5           0.5\n",
       "Percent >=100000               0.2           0.2"
      ]
     },
     "execution_count": 17,
     "metadata": {},
     "output_type": "execute_result"
    }
   ],
   "source": [
    "W_hat1_3 = np.eye(3)\n",
    "gmm_args = (df['Income'], 0.0, 150000.0, W_hat1_3)\n",
    "\n",
    "results_3 = opt.minimize(criterion3, params_init, args=(gmm_args),\n",
    "                       method='L-BFGS-B', bounds=((1e-10, None), (1e-10, None)))\n",
    "\n",
    "mu_GMM1_3, sig_GMM1_3 = results_3.x\n",
    "print('mu_GMM1_3=', mu_GMM1_3, ' sig_GMM1_3=', sig_GMM1_3)\n",
    "err3 = err_vec3(df['Income'], mu_GMM1_3, sig_GMM1_3, 0.0, 150000.0, False).reshape(3,)\n",
    "\n",
    "bpct_1_dat, bpct_2_dat, bpct_3_dat=data_moments3(df['Income'])\n",
    "pert1, pert2, pert3 = model_moments3(mu_GMM1_3, sig_GMM1_3, 0.0, 150000.0)\n",
    "\n",
    "print('Error vector=', err3)\n",
    "print('GMM criterion function is',results_3.fun)\n",
    "mm=pd.DataFrame({'Data Moments':[bpct_1_dat, bpct_2_dat, bpct_3_dat],\n",
    "                'Model Momets':[pert1, pert2, pert3]},\n",
    "                index=['Percent <75000','Percent 75000~100000','Percent >=100000'])\n",
    "mm"
   ]
  },
  {
   "cell_type": "code",
   "execution_count": 18,
   "metadata": {},
   "outputs": [
    {
     "data": {
      "image/png": "[encoded data removed]",
      "text/plain": [
       "<Figure size 432x288 with 1 Axes>"
      ]
     },
     "metadata": {
      "needs_background": "light"
     },
     "output_type": "display_data"
    }
   ],
   "source": [
    "num_bins = 30\n",
    "plt.hist(df['Income'], num_bins, normed = True, edgecolor = 'k')\n",
    "plt.xlabel('Annual Income', fontsize = 15)\n",
    "plt.ylabel('Percentages of the Income', fontsize = 15)\n",
    "plt.title('Annual Incomes of MACCS Students from 2018 to 2020', fontsize = 20)\n",
    "plt.xlim([0, 150000])\n",
    "\n",
    "plt.plot(dist_pts, trunc_lognorm_pdf(dist_pts, mu_GMM1_3, sig_GMM1_3, 0.0, 150000),\n",
    "         linewidth=2, color='r', label='1: $\\mu_{GMM3}$,$\\sigma_{GMM3}$')\n",
    "plt.legend(loc='upper left')\n",
    "\n",
    "plt.show()"
   ]
  },
  {
   "cell_type": "code",
   "execution_count": 19,
   "metadata": {},
   "outputs": [],
   "source": [
    "# e"
   ]
  },
  {
   "cell_type": "code",
   "execution_count": 20,
   "metadata": {},
   "outputs": [
    {
     "name": "stdout",
     "output_type": "stream",
     "text": [
      "VCV2_3 is [[ 2.33333258 -0.99999991 -0.9999999 ]\n",
      " [-0.99999991  1.00000014 -1.00000013]\n",
      " [-0.9999999  -1.00000013  4.0000005 ]]\n",
      "W_hat2_3 is [[ 0.25761775 -0.14958453 -0.01246539]\n",
      " [-0.14958453  0.11911361 -0.07340718]\n",
      " [-0.01246539 -0.07340718  0.20221604]]\n"
     ]
    }
   ],
   "source": [
    "# This function computes the R x N matrix of errors from each observation for each moment.\n",
    "\n",
    "def get_Err_mat3(pts, mu, sigma, cut_lb, cut_ub, simple=False):\n",
    "    R = 3\n",
    "    N = len(pts)\n",
    "    Err_mat = np.zeros((R, N))\n",
    "    pct_1_mod, pct_2_mod, pct_3_mod = \\\n",
    "        model_moments3(mu, sigma, cut_lb, cut_ub)\n",
    "    if simple:\n",
    "        pts_in_grp1 = pts < 75000\n",
    "        Err_mat[0, :] = pts_in_grp1 - pct_1_mod\n",
    "        pts_in_grp2 = (pts >= 75000) & (pts < 100000)\n",
    "        Err_mat[1, :] = pts_in_grp2 - pct_2_mod\n",
    "        pts_in_grp3 = pts >= 100000\n",
    "        Err_mat[2, :] = pts_in_grp3 - pct_3_mod\n",
    "\n",
    "    else:\n",
    "        pts_in_grp1 = pts < 75000\n",
    "        Err_mat[0, :] = (pts_in_grp1 - pct_1_mod) / pct_1_mod\n",
    "        pts_in_grp2 = (pts >= 75000) & (pts < 100000)\n",
    "        Err_mat[1, :] = (pts_in_grp2 - pct_2_mod) / pct_2_mod\n",
    "        pts_in_grp3 = pts >= 100000\n",
    "        Err_mat[2, :] = (pts_in_grp3 - pct_3_mod) / pct_3_mod\n",
    "    \n",
    "    return Err_mat\n",
    "\n",
    "Err_mat3_1 = get_Err_mat3(df['Income'], mu_GMM1_3, sig_GMM1_3, 0.0, 150000.0, False)\n",
    "VCV2_3_1 = (1 / df['Income'].shape[0]) * (Err_mat3_1 @ Err_mat3_1.T)\n",
    "print(\"VCV2_3 is\",VCV2_3_1)\n",
    "W_hat2_3 = lin.pinv(VCV2_3_1)\n",
    "print(\"W_hat2_3 is\",W_hat2_3)"
   ]
  },
  {
   "cell_type": "code",
   "execution_count": 21,
   "metadata": {},
   "outputs": [
    {
     "name": "stdout",
     "output_type": "stream",
     "text": [
      "mu_GMM1_3_1= 11.336705114244175  sig_GMM1_3_1= 0.21151358770043702\n",
      "Error vector= [ 5.84568433e-07 -3.06907615e-07 -1.09583609e-07]\n",
      "GMM criterion function is [[1.52013964e-13]]\n"
     ]
    },
    {
     "data": {
      "text/html": [
       "<div>\n",
       "<style scoped>\n",
       "    .dataframe tbody tr th:only-of-type {\n",
       "        vertical-align: middle;\n",
       "    }\n",
       "\n",
       "    .dataframe tbody tr th {\n",
       "        vertical-align: top;\n",
       "    }\n",
       "\n",
       "    .dataframe thead th {\n",
       "        text-align: right;\n",
       "    }\n",
       "</style>\n",
       "<table border=\"1\" class=\"dataframe\">\n",
       "  <thead>\n",
       "    <tr style=\"text-align: right;\">\n",
       "      <th></th>\n",
       "      <th>Data Moments</th>\n",
       "      <th>Model Momets</th>\n",
       "    </tr>\n",
       "  </thead>\n",
       "  <tbody>\n",
       "    <tr>\n",
       "      <th>Percent &lt;75000</th>\n",
       "      <td>0.3</td>\n",
       "      <td>0.3</td>\n",
       "    </tr>\n",
       "    <tr>\n",
       "      <th>Percent 75000~100000</th>\n",
       "      <td>0.5</td>\n",
       "      <td>0.5</td>\n",
       "    </tr>\n",
       "    <tr>\n",
       "      <th>Percent &gt;=100000</th>\n",
       "      <td>0.2</td>\n",
       "      <td>0.2</td>\n",
       "    </tr>\n",
       "  </tbody>\n",
       "</table>\n",
       "</div>"
      ],
      "text/plain": [
       "                      Data Moments  Model Momets\n",
       "Percent <75000                 0.3           0.3\n",
       "Percent 75000~100000           0.5           0.5\n",
       "Percent >=100000               0.2           0.2"
      ]
     },
     "execution_count": 21,
     "metadata": {},
     "output_type": "execute_result"
    }
   ],
   "source": [
    "gmm_args = (df['Income'], 0.0, 150000.0, W_hat2_3)\n",
    "results_4 = opt.minimize(criterion3, params_init, args=(gmm_args),method='L-BFGS-B',bounds=((None, None), (1e-10, None)))\n",
    "mu_GMM1_3_1, sig_GMM1_3_1 = results_4.x\n",
    "print('mu_GMM1_3_1=', mu_GMM1_3_1, ' sig_GMM1_3_1=', sig_GMM1_3_1)\n",
    "err3_1 = err_vec3(df['Income'], mu_GMM1_3_1, sig_GMM1_3_1, 0.0, 150000.0, False).reshape(3,)\n",
    "\n",
    "pert1, pert2, pert3 = model_moments3(mu_GMM1_3_1, sig_GMM1_3_1, 0.0, 150000.0)\n",
    "\n",
    "print('Error vector=', err3_1)\n",
    "print('GMM criterion function is',results_4.fun)\n",
    "mm=pd.DataFrame({'Data Moments':[bpct_1_dat, bpct_2_dat, bpct_3_dat],\n",
    "                'Model Momets':[pert1, pert2, pert3]},\n",
    "                index=['Percent <75000','Percent 75000~100000','Percent >=100000'])\n",
    "mm"
   ]
  },
  {
   "cell_type": "code",
   "execution_count": 22,
   "metadata": {},
   "outputs": [
    {
     "data": {
      "image/png": "[encoded data removed]",
      "text/plain": [
       "<Figure size 432x288 with 1 Axes>"
      ]
     },
     "metadata": {
      "needs_background": "light"
     },
     "output_type": "display_data"
    }
   ],
   "source": [
    "num_bins = 30\n",
    "plt.hist(df['Income'], num_bins, normed = True, edgecolor = 'k')\n",
    "plt.xlabel('Annual Income', fontsize = 15)\n",
    "plt.ylabel('Percentages of the Income', fontsize = 15)\n",
    "plt.title('Annual Incomes of MACCS Students from 2018 to 2020', fontsize = 20)\n",
    "plt.xlim([0, 150000])\n",
    "\n",
    "plt.plot(dist_pts, trunc_lognorm_pdf(dist_pts, mu_GMM1_3_1, sig_GMM1_3_1, 0.0, 150000),\n",
    "         linewidth=2, color='r', label='1: $\\mu_{GMM3_1}$,$\\sigma_{GMM3_1}$')\n",
    "plt.legend(loc='upper left')\n",
    "\n",
    "plt.show()"
   ]
  },
  {
   "cell_type": "code",
   "execution_count": 23,
   "metadata": {},
   "outputs": [],
   "source": [
    "# f"
   ]
  },
  {
   "cell_type": "code",
   "execution_count": 24,
   "metadata": {},
   "outputs": [
    {
     "data": {
      "text/html": [
       "<div>\n",
       "<style scoped>\n",
       "    .dataframe tbody tr th:only-of-type {\n",
       "        vertical-align: middle;\n",
       "    }\n",
       "\n",
       "    .dataframe tbody tr th {\n",
       "        vertical-align: top;\n",
       "    }\n",
       "\n",
       "    .dataframe thead th {\n",
       "        text-align: right;\n",
       "    }\n",
       "</style>\n",
       "<table border=\"1\" class=\"dataframe\">\n",
       "  <thead>\n",
       "    <tr style=\"text-align: right;\">\n",
       "      <th></th>\n",
       "      <th>mu</th>\n",
       "      <th>sigma</th>\n",
       "      <th>GMM Function Value</th>\n",
       "    </tr>\n",
       "  </thead>\n",
       "  <tbody>\n",
       "    <tr>\n",
       "      <th>2 moments+Identity Matrix</th>\n",
       "      <td>11.333533</td>\n",
       "      <td>0.213862</td>\n",
       "      <td>6.357611e-16</td>\n",
       "    </tr>\n",
       "    <tr>\n",
       "      <th>2 moments+Weighted Matrix</th>\n",
       "      <td>11.333533</td>\n",
       "      <td>0.213862</td>\n",
       "      <td>4.279414e-16</td>\n",
       "    </tr>\n",
       "    <tr>\n",
       "      <th>3 moments+Identity Matrix</th>\n",
       "      <td>11.336705</td>\n",
       "      <td>0.211514</td>\n",
       "      <td>3.516064e-14</td>\n",
       "    </tr>\n",
       "    <tr>\n",
       "      <th>3 moments+Weighted Matrix</th>\n",
       "      <td>11.336705</td>\n",
       "      <td>0.211514</td>\n",
       "      <td>1.520140e-13</td>\n",
       "    </tr>\n",
       "  </tbody>\n",
       "</table>\n",
       "</div>"
      ],
      "text/plain": [
       "                                  mu     sigma  GMM Function Value\n",
       "2 moments+Identity Matrix  11.333533  0.213862        6.357611e-16\n",
       "2 moments+Weighted Matrix  11.333533  0.213862        4.279414e-16\n",
       "3 moments+Identity Matrix  11.336705  0.211514        3.516064e-14\n",
       "3 moments+Weighted Matrix  11.336705  0.211514        1.520140e-13"
      ]
     },
     "execution_count": 24,
     "metadata": {},
     "output_type": "execute_result"
    }
   ],
   "source": [
    "sigma = [sig_GMM1,sig_GMM2,sig_GMM1_3,sig_GMM1_3_1]\n",
    "mu = [mu_GMM1,mu_GMM2,mu_GMM1_3,mu_GMM1_3_1]\n",
    "GMM_value=[results.fun,results2.fun,results_3.fun,results_4.fun]\n",
    "\n",
    "pd.DataFrame({\"mu\":mu,\"sigma\":sigma,\"GMM Function Value\":GMM_value}\n",
    "            ,index=['2 moments+Identity Matrix','2 moments+Weighted Matrix',\n",
    "                   '3 moments+Identity Matrix','3 moments+Weighted Matrix']).astype(float)"
   ]
  },
  {
   "cell_type": "code",
   "execution_count": 25,
   "metadata": {},
   "outputs": [],
   "source": [
    "# part (c) best fits the data because it has the smallest GMM function value. \n",
    "# In part (c), it uses the mean and std of the income to represents the two moments with two-step optimal weighting matrix.\n"
   ]
  },
  {
   "cell_type": "code",
   "execution_count": 26,
   "metadata": {},
   "outputs": [],
   "source": [
    "# q2"
   ]
  },
  {
   "cell_type": "code",
   "execution_count": 27,
   "metadata": {},
   "outputs": [
    {
     "data": {
      "text/html": [
       "<div>\n",
       "<style scoped>\n",
       "    .dataframe tbody tr th:only-of-type {\n",
       "        vertical-align: middle;\n",
       "    }\n",
       "\n",
       "    .dataframe tbody tr th {\n",
       "        vertical-align: top;\n",
       "    }\n",
       "\n",
       "    .dataframe thead th {\n",
       "        text-align: right;\n",
       "    }\n",
       "</style>\n",
       "<table border=\"1\" class=\"dataframe\">\n",
       "  <thead>\n",
       "    <tr style=\"text-align: right;\">\n",
       "      <th></th>\n",
       "      <th>sick</th>\n",
       "      <th>age</th>\n",
       "      <th>children</th>\n",
       "      <th>avgtemp_winter</th>\n",
       "    </tr>\n",
       "  </thead>\n",
       "  <tbody>\n",
       "    <tr>\n",
       "      <th>count</th>\n",
       "      <td>200.000000</td>\n",
       "      <td>200.000000</td>\n",
       "      <td>200.000000</td>\n",
       "      <td>200.000000</td>\n",
       "    </tr>\n",
       "    <tr>\n",
       "      <th>mean</th>\n",
       "      <td>1.008600</td>\n",
       "      <td>40.683850</td>\n",
       "      <td>1.674950</td>\n",
       "      <td>44.041250</td>\n",
       "    </tr>\n",
       "    <tr>\n",
       "      <th>std</th>\n",
       "      <td>0.504222</td>\n",
       "      <td>11.268686</td>\n",
       "      <td>0.969761</td>\n",
       "      <td>11.101977</td>\n",
       "    </tr>\n",
       "    <tr>\n",
       "      <th>min</th>\n",
       "      <td>0.040000</td>\n",
       "      <td>12.810000</td>\n",
       "      <td>0.000000</td>\n",
       "      <td>16.500000</td>\n",
       "    </tr>\n",
       "    <tr>\n",
       "      <th>25%</th>\n",
       "      <td>0.650000</td>\n",
       "      <td>33.967500</td>\n",
       "      <td>0.970000</td>\n",
       "      <td>36.112500</td>\n",
       "    </tr>\n",
       "    <tr>\n",
       "      <th>50%</th>\n",
       "      <td>0.960000</td>\n",
       "      <td>41.015000</td>\n",
       "      <td>1.560000</td>\n",
       "      <td>43.300000</td>\n",
       "    </tr>\n",
       "    <tr>\n",
       "      <th>75%</th>\n",
       "      <td>1.322500</td>\n",
       "      <td>47.750000</td>\n",
       "      <td>2.322500</td>\n",
       "      <td>52.172500</td>\n",
       "    </tr>\n",
       "    <tr>\n",
       "      <th>max</th>\n",
       "      <td>2.800000</td>\n",
       "      <td>74.890000</td>\n",
       "      <td>4.960000</td>\n",
       "      <td>68.600000</td>\n",
       "    </tr>\n",
       "  </tbody>\n",
       "</table>\n",
       "</div>"
      ],
      "text/plain": [
       "             sick         age    children  avgtemp_winter\n",
       "count  200.000000  200.000000  200.000000      200.000000\n",
       "mean     1.008600   40.683850    1.674950       44.041250\n",
       "std      0.504222   11.268686    0.969761       11.101977\n",
       "min      0.040000   12.810000    0.000000       16.500000\n",
       "25%      0.650000   33.967500    0.970000       36.112500\n",
       "50%      0.960000   41.015000    1.560000       43.300000\n",
       "75%      1.322500   47.750000    2.322500       52.172500\n",
       "max      2.800000   74.890000    4.960000       68.600000"
      ]
     },
     "execution_count": 27,
     "metadata": {},
     "output_type": "execute_result"
    }
   ],
   "source": [
    "df=pd.read_csv(\"data/sick.txt\").astype('float64')\n",
    "df.describe()"
   ]
  },
  {
   "cell_type": "code",
   "execution_count": 28,
   "metadata": {},
   "outputs": [
    {
     "name": "stdout",
     "output_type": "stream",
     "text": [
      "b0 estimation is 0.2516448636180223\n",
      "b1 estimation is 0.012933469667256711\n",
      "b2 estimation is 0.40050098511048643\n",
      "b3 estimation is -0.009991708483433188\n",
      "GMM criterion function is 0.00182128980560192\n"
     ]
    }
   ],
   "source": [
    "def err_vec(df,b0,b1,b2,b3):\n",
    "    yhat=b0+b1*df['age']+b2*df['children']+b3*df['avgtemp_winter']\n",
    "    y=df['sick']\n",
    "    err_vec = yhat - y\n",
    "    err_vec = np.array(err_vec)\n",
    "    \n",
    "    return err_vec\n",
    "\n",
    "def criterion(params, *args):\n",
    "    b0,b1,b2,b3 = params\n",
    "    df, W = args\n",
    "    err = err_vec(df,b0,b1,b2,b3)\n",
    "    crit_val = err.T @ W @ err\n",
    "    \n",
    "    return crit_val\n",
    "\n",
    "b0, b1, b2, b3 = 1, 0, 0, 0\n",
    "params_init = np.array([b0, b1, b2, b3])\n",
    "W_hat = np.eye(df.shape[0])\n",
    "gmm_args = (df, W_hat)\n",
    "results = opt.minimize(criterion, params_init, args=(gmm_args), tol=1e-14,method='L-BFGS-B')\n",
    "b0, b1, b2, b3 = results.x\n",
    "\n",
    "print(\"b0 estimation is\",b0)\n",
    "print(\"b1 estimation is\",b1)\n",
    "print(\"b2 estimation is\",b2)\n",
    "print(\"b3 estimation is\",b3)\n",
    "print('GMM criterion function is',results.fun)"
   ]
  },
  {
   "cell_type": "code",
   "execution_count": null,
   "metadata": {},
   "outputs": [],
   "source": []
  }
 ],
 "metadata": {
  "kernelspec": {
   "display_name": "Python 3",
   "language": "python",
   "name": "python3"
  },
  "language_info": {
   "codemirror_mode": {
    "name": "ipython",
    "version": 3
   },
   "file_extension": ".py",
   "mimetype": "text/x-python",
   "name": "python",
   "nbconvert_exporter": "python",
   "pygments_lexer": "ipython3",
   "version": "3.7.1"
  }
 },
 "nbformat": 4,
 "nbformat_minor": 2
}
